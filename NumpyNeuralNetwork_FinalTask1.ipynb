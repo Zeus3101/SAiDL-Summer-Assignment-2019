{
 "cells": [
  {
   "cell_type": "code",
   "execution_count": 1,
   "metadata": {},
   "outputs": [],
   "source": [
    "import numpy as np"
   ]
  },
  {
   "cell_type": "code",
   "execution_count": 2,
   "metadata": {},
   "outputs": [],
   "source": [
    "def xnor(a):\n",
    "    res = np.zeros((2, ))\n",
    "    \n",
    "    if a[0] == a[2]:\n",
    "        res[0] = 1\n",
    "    else:\n",
    "        res[0] = 0\n",
    "    \n",
    "    if a[1] == a[3]:\n",
    "        res[1] = 1\n",
    "    else:\n",
    "        res[1] = 0\n",
    "        \n",
    "    return res"
   ]
  },
  {
   "cell_type": "code",
   "execution_count": 3,
   "metadata": {},
   "outputs": [],
   "source": [
    "def make_dataset():\n",
    "    data = np.zeros((16, 4))\n",
    "    labels = np.zeros((16, 2))\n",
    "    index = 0\n",
    "    \n",
    "    for a in range(2):\n",
    "        for b in range(2):\n",
    "            for c in range(2):\n",
    "                for d in range(2):\n",
    "                    data[index] = [a, b, c, d]\n",
    "                    labels[index] = xnor(data[index])\n",
    "                    index += 1\n",
    "    \n",
    "    return data, labels"
   ]
  },
  {
   "cell_type": "code",
   "execution_count": 4,
   "metadata": {},
   "outputs": [],
   "source": [
    "trainset, labels = make_dataset()"
   ]
  },
  {
   "cell_type": "code",
   "execution_count": 5,
   "metadata": {},
   "outputs": [
    {
     "name": "stdout",
     "output_type": "stream",
     "text": [
      "[0. 0. 0. 0.] [1. 1.]\n",
      "[0. 0. 0. 1.] [1. 0.]\n",
      "[0. 0. 1. 0.] [0. 1.]\n",
      "[0. 0. 1. 1.] [0. 0.]\n",
      "[0. 1. 0. 0.] [1. 0.]\n",
      "[0. 1. 0. 1.] [1. 1.]\n",
      "[0. 1. 1. 0.] [0. 0.]\n",
      "[0. 1. 1. 1.] [0. 1.]\n",
      "[1. 0. 0. 0.] [0. 1.]\n",
      "[1. 0. 0. 1.] [0. 0.]\n",
      "[1. 0. 1. 0.] [1. 1.]\n",
      "[1. 0. 1. 1.] [1. 0.]\n",
      "[1. 1. 0. 0.] [0. 0.]\n",
      "[1. 1. 0. 1.] [0. 1.]\n",
      "[1. 1. 1. 0.] [1. 0.]\n",
      "[1. 1. 1. 1.] [1. 1.]\n"
     ]
    }
   ],
   "source": [
    "for i in range(16):\n",
    "    print(trainset[i], labels[i])"
   ]
  },
  {
   "cell_type": "code",
   "execution_count": 50,
   "metadata": {},
   "outputs": [],
   "source": [
    "def sigmoid(z):\n",
    "    return 1 / (1 + np.exp(-z))\n",
    "\n",
    "def sigmoid_backward(z):\n",
    "    return np.multiply(z, (1-z))"
   ]
  },
  {
   "cell_type": "code",
   "execution_count": 51,
   "metadata": {},
   "outputs": [],
   "source": [
    "def init_weights():\n",
    "    W1 = np.random.randn(8, 4) * 0.1\n",
    "    b1 = np.random.rand(8, 1) * 0.1\n",
    "    W2 = np.random.rand(2, 8) * 0.1\n",
    "    b2 = np.random.rand(2, 1) * 0.1\n",
    "\n",
    "    p = [W1, b1, W2, b2]\n",
    "    \n",
    "    return p"
   ]
  },
  {
   "cell_type": "code",
   "execution_count": 52,
   "metadata": {},
   "outputs": [],
   "source": [
    "def forward(X, p):\n",
    "    Z_ = np.matmul(p[0], X) + p[1]\n",
    "    Z = sigmoid(Z_)\n",
    "\n",
    "    A_ = np.matmul(p[2], Z) + p[3]\n",
    "    A = sigmoid(A_)\n",
    "    \n",
    "    m = [A, Z]\n",
    "\n",
    "    return m"
   ]
  },
  {
   "cell_type": "code",
   "execution_count": 53,
   "metadata": {},
   "outputs": [],
   "source": [
    "def MSELoss(A, Y):\n",
    "    loss = 1/2 * np.sum((A - Y)**2)\n",
    "    return loss"
   ]
  },
  {
   "cell_type": "code",
   "execution_count": 54,
   "metadata": {},
   "outputs": [],
   "source": [
    "def LogMSE(A, Y):\n",
    "    loss = 1/2 * np.sum((np.log(A) - np.log(Y))**2)\n",
    "    return loss"
   ]
  },
  {
   "cell_type": "code",
   "execution_count": 55,
   "metadata": {},
   "outputs": [],
   "source": [
    "def backward(p, m, X, Y, lr=0.2):\n",
    "    dA = - np.sum(Y - m[0], axis=0, keepdims=True)\n",
    "    dA_ = dA * sigmoid_backward(m[0])\n",
    "\n",
    "    dW2 = np.matmul(dA_, m[1].T)\n",
    "    db2 = np.array(dA_, copy=True)\n",
    "\n",
    "    dZ = np.matmul(p[2].T, dA_)\n",
    "    dZ_ = dZ * sigmoid_backward(m[1])\n",
    "\n",
    "    dW1 = np.matmul(dZ_, X.T)\n",
    "    #print(\"dZ_: {}\".format(dZ_))\n",
    "    #print(\"X: {}\".format(X))\n",
    "    \n",
    "    db1 = np.array(dZ_, copy=True)\n",
    "\n",
    "    p[2] -= dW2 * lr\n",
    "    p[3] -= db2 * lr\n",
    "    p[0] -= dW1 * lr\n",
    "    p[1] -= db1 * lr\n",
    "    \n",
    "    #print(\"dW1: {}, \\ndb1: {}, \\ndW2: {}, \\ndb2: {}\".format(dW1, db1, dW2, db2))\n",
    "    \n",
    "    return p"
   ]
  },
  {
   "cell_type": "code",
   "execution_count": 56,
   "metadata": {},
   "outputs": [
    {
     "name": "stdout",
     "output_type": "stream",
     "text": [
      "Epoch: 1, Loss: 4.110367482662907\n",
      "Epoch: 2, Loss: 4.089285777499239\n",
      "Epoch: 3, Loss: 4.0832556680236305\n",
      "Epoch: 4, Loss: 4.0815328949053225\n",
      "Epoch: 5, Loss: 4.081026135276642\n",
      "Epoch: 6, Loss: 4.080861099188582\n",
      "Epoch: 7, Loss: 4.0807919393065175\n",
      "Epoch: 8, Loss: 4.080749847945292\n",
      "Epoch: 9, Loss: 4.080715738544342\n",
      "Epoch: 10, Loss: 4.080684423240213\n"
     ]
    }
   ],
   "source": [
    "p = init_weights()\n",
    "for epoch in range(10):\n",
    "    running_loss = 0.0\n",
    "\n",
    "    for i in range(16):\n",
    "        X = trainset[i].reshape((-1, 1))\n",
    "        Y = labels[i].reshape((-1, 1))\n",
    "        \n",
    "        m = forward(X, p)\n",
    "\n",
    "        running_loss += MSELoss(m[0], Y)\n",
    "\n",
    "        p = backward(p, m, X, Y, lr=0.1)\n",
    "\n",
    "    loss = running_loss\n",
    "    print(\"Epoch: {}, Loss: {}\".format(epoch+1, loss))"
   ]
  },
  {
   "cell_type": "code",
   "execution_count": 57,
   "metadata": {},
   "outputs": [
    {
     "name": "stdout",
     "output_type": "stream",
     "text": [
      "Loss: 4.080684423240213, Accuracy: 0.25\n"
     ]
    }
   ],
   "source": [
    "running_correct = 0\n",
    "\n",
    "for i in range(16):\n",
    "    X = trainset[i].reshape((-1, 1))\n",
    "    Y = labels[i].reshape((-1, 1))\n",
    "\n",
    "    m = forward(X, p)\n",
    "    \n",
    "    running_correct += int(np.array_equal(m[0].round(), Y))\n",
    "\n",
    "accuracy = running_correct / 16\n",
    "\n",
    "print(\"Loss: {}, Accuracy: {}\".format(loss, accuracy))"
   ]
  },
  {
   "cell_type": "code",
   "execution_count": null,
   "metadata": {},
   "outputs": [],
   "source": []
  }
 ],
 "metadata": {
  "kernelspec": {
   "display_name": "Python 3",
   "language": "python",
   "name": "python3"
  },
  "language_info": {
   "codemirror_mode": {
    "name": "ipython",
    "version": 3
   },
   "file_extension": ".py",
   "mimetype": "text/x-python",
   "name": "python",
   "nbconvert_exporter": "python",
   "pygments_lexer": "ipython3",
   "version": "3.7.3"
  }
 },
 "nbformat": 4,
 "nbformat_minor": 2
}
